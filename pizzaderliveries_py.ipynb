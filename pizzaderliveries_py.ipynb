{
  "nbformat": 4,
  "nbformat_minor": 0,
  "metadata": {
    "colab": {
      "provenance": [],
      "authorship_tag": "ABX9TyMyGefIAZe8BbMZDJC0zyFH",
      "include_colab_link": true
    },
    "kernelspec": {
      "name": "python3",
      "display_name": "Python 3"
    },
    "language_info": {
      "name": "python"
    }
  },
  "cells": [
    {
      "cell_type": "markdown",
      "metadata": {
        "id": "view-in-github",
        "colab_type": "text"
      },
      "source": [
        "<a href=\"https://colab.research.google.com/github/MDIOUF31/-checkpoint7/blob/main/pizzaderliveries_py.ipynb\" target=\"_parent\"><img src=\"https://colab.research.google.com/assets/colab-badge.svg\" alt=\"Open In Colab\"/></a>"
      ]
    },
    {
      "cell_type": "code",
      "execution_count": 18,
      "metadata": {
        "colab": {
          "base_uri": "https://localhost:8080/"
        },
        "id": "3mwtFeoZLFWV",
        "outputId": "19bad3e2-e8ee-4baa-be95-1817eddd7128"
      },
      "outputs": [
        {
          "output_type": "stream",
          "name": "stdout",
          "text": [
            "Bienvenue dans Python Pizza Deliveries!\n",
            "quelle est la taille de pizza que vous souhaitez acheter? (petite_pizza/moyenne_pizza/grande_pizza):grande_pizza\n",
            "Souhaitez-vous ajouter du pepperoni sur votre pizza? (oui/non)oui\n",
            "Souhaitez-vous avoir du fromage supplémentaire sur votre pizza? (oui/non)oui\n",
            "Votre facture finale est de 29 $.\n"
          ]
        }
      ],
      "source": [
        "print(\"Bienvenue dans Python Pizza Deliveries!\")\n",
        "prix=0\n",
        "taille=input(\"quelle est la taille de pizza que vous souhaitez acheter? (petite_pizza/moyenne_pizza/grande_pizza):\")\n",
        "if taille==\"petite_pizza\":\n",
        "  prix +=15\n",
        "elif taille==\"moyenne_pizza\":\n",
        "  prix +=20\n",
        "elif taille==\"grande_pizza\":\n",
        "  prix +=25\n",
        "add_pepperoni=input(\"Souhaitez-vous ajouter du pepperoni sur votre pizza? (oui/non)\")\n",
        "if add_pepperoni==\"oui\":\n",
        "  if taille==\"petite_pizza\":\n",
        "    prix +=2\n",
        "  else:\n",
        "   prix +=3\n",
        "extra_cheese=input(\"Souhaitez-vous avoir du fromage supplémentaire sur votre pizza? (oui/non)\")\n",
        "if extra_cheese==\"oui\":\n",
        "  prix +=1\n",
        "\n",
        "print(f\"Votre facture finale est de {prix} $.\")\n",
        "\n",
        "\n"
      ]
    }
  ]
}